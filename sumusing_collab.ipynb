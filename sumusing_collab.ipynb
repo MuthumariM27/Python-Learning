{
  "nbformat": 4,
  "nbformat_minor": 0,
  "metadata": {
    "colab": {
      "provenance": [],
      "authorship_tag": "ABX9TyO9RjMo9jhzaSgpFQDkXSUZ",
      "include_colab_link": true
    },
    "kernelspec": {
      "name": "python3",
      "display_name": "Python 3"
    },
    "language_info": {
      "name": "python"
    }
  },
  "cells": [
    {
      "cell_type": "markdown",
      "metadata": {
        "id": "view-in-github",
        "colab_type": "text"
      },
      "source": [
        "<a href=\"https://colab.research.google.com/github/MuthumariM27/Python-Learning/blob/main/sumusing_collab.ipynb\" target=\"_parent\"><img src=\"https://colab.research.google.com/assets/colab-badge.svg\" alt=\"Open In Colab\"/></a>"
      ]
    },
    {
      "cell_type": "code",
      "execution_count": 2,
      "metadata": {
        "colab": {
          "base_uri": "https://localhost:8080/"
        },
        "id": "gT_0Utj0GoGi",
        "outputId": "07a6fd7c-caae-48bc-f88f-8a5f53c9037d"
      },
      "outputs": [
        {
          "output_type": "stream",
          "name": "stdout",
          "text": [
            "{1, 2, 3, 4.5, (2+5j), 'String'}\n"
          ]
        }
      ],
      "source": [
        "myDefaultSet = {1, 2, 3, 4.5, \"String\", True, 2+5j}\n",
        "print(myDefaultSet)"
      ]
    },
    {
      "cell_type": "code",
      "source": [
        "myDefaultSet.add(\"Google Collab Sucks!\")\n",
        "myDefaultSet.add(False)\n",
        "print(myDefaultSet)\n"
      ],
      "metadata": {
        "colab": {
          "base_uri": "https://localhost:8080/"
        },
        "id": "kV27VAX9PsY3",
        "outputId": "c726aa43-63eb-44e6-9804-1fcff7a7610d"
      },
      "execution_count": 3,
      "outputs": [
        {
          "output_type": "stream",
          "name": "stdout",
          "text": [
            "{'Google Collab Sucks!', 1, 2, 3, 4.5, (2+5j), 'String', False}\n"
          ]
        }
      ]
    },
    {
      "cell_type": "code",
      "source": [
        "myDefaultSet.pop()\n"
      ],
      "metadata": {
        "colab": {
          "base_uri": "https://localhost:8080/"
        },
        "id": "yDs4w1O_P4FQ",
        "outputId": "c08b3129-da44-4dd0-fef5-969ada463f8a"
      },
      "execution_count": 8,
      "outputs": [
        {
          "output_type": "execute_result",
          "data": {
            "text/plain": [
              "2"
            ]
          },
          "metadata": {},
          "execution_count": 8
        }
      ]
    },
    {
      "cell_type": "code",
      "source": [
        "\n",
        "print(myDefaultSet)\n"
      ],
      "metadata": {
        "colab": {
          "base_uri": "https://localhost:8080/"
        },
        "id": "EoE-EladP7px",
        "outputId": "d2e09fdf-6d6b-4809-8f1e-49124380784f"
      },
      "execution_count": 9,
      "outputs": [
        {
          "output_type": "stream",
          "name": "stdout",
          "text": [
            "{3, 4.5, (2+5j), 'String', False}\n"
          ]
        }
      ]
    },
    {
      "cell_type": "code",
      "source": [],
      "metadata": {
        "id": "MXA3fz7pP-9-"
      },
      "execution_count": null,
      "outputs": []
    }
  ]
}